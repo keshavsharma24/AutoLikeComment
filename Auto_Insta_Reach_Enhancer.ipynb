{
 "cells": [
  {
   "cell_type": "code",
   "execution_count": 3,
   "metadata": {
    "scrolled": true
   },
   "outputs": [
    {
     "name": "stderr",
     "output_type": "stream",
     "text": [
      "\n",
      "\n",
      "====== WebDriver manager ======\n"
     ]
    },
    {
     "name": "stdout",
     "output_type": "stream",
     "text": [
      "https://www.instagram.com/accounts/login/\n"
     ]
    },
    {
     "name": "stderr",
     "output_type": "stream",
     "text": [
      "Current google-chrome version is 99.0.4844\n",
      "Get LATEST chromedriver version for 99.0.4844 google-chrome\n",
      "Driver [C:\\Users\\asus\\.wdm\\drivers\\chromedriver\\win32\\99.0.4844.51\\chromedriver.exe] found in cache\n",
      "<ipython-input-3-1851c8e48b9f>:15: DeprecationWarning: executable_path has been deprecated, please pass in a Service object\n",
      "  driver = webdriver.Chrome(ChromeDriverManager().install())\n"
     ]
    }
   ],
   "source": [
    "import time\n",
    "import random\n",
    "from selenium import webdriver \n",
    "from selenium.webdriver.common.by import By\n",
    "from selenium.webdriver.common.keys import Keys\n",
    "from selenium.webdriver.chrome.service import Service\n",
    "from webdriver_manager.chrome import ChromeDriverManager\n",
    "\n",
    "URL = \"https://www.instagram.com/accounts/login/\"\n",
    "Username = \"Your username\"\n",
    "Password = \"Your Password\"\n",
    "hashtag = \"#goldenretriever\"\n",
    "print(URL)\n",
    "global driver \n",
    "driver = webdriver.Chrome(ChromeDriverManager().install())\n",
    "\n"
   ]
  },
  {
   "cell_type": "code",
   "execution_count": null,
   "metadata": {},
   "outputs": [],
   "source": [
    "def login():\n",
    "    #driver = webdriver.Chrome(ChromeDriverManager().install())\n",
    "    driver.get(URL)\n",
    "    time.sleep(5)\n",
    "    # username & password entered\n",
    "    driver.find_element_by_name(\"username\").send_keys(Username)\n",
    "    driver.find_element_by_name(\"password\").send_keys(Password)\n",
    "    time.sleep(5)\n",
    "    #login button pressed\n",
    "    login_button = driver.find_element(By.XPATH, \"//*/div[1]/div[3]/button/div\").click()\n",
    "    print('login Btn pressed')\n",
    "    time.sleep(5)\n",
    "    #finding #hashtag\n",
    "    hashtag_input = driver.find_element(By.CSS_SELECTOR,\"#react-root > div > div > section > nav > div._8MQSO.Cx7Bp > div > div > div.QY4Ed.P0xOK > div.cTBqC > div\").click()\n",
    "    time.sleep(5)\n",
    "    hashtag1=driver.find_element(By.CSS_SELECTOR,\"#react-root > div > div > section > nav > div._8MQSO.Cx7Bp > div > div > div.QY4Ed.P0xOK > input\").send_keys(hashtag)\n",
    "    time.sleep(5)\n",
    "    enter = driver.find_element(By.CSS_SELECTOR,\"#react-root > div > div > section > nav > div._8MQSO.Cx7Bp > div > div > div.QY4Ed.P0xOK > input\").send_keys(Keys.RETURN)\n",
    "    time.sleep(3)\n",
    "    driver.find_element(By.CSS_SELECTOR,\"#react-root > div > div > section > nav > div._8MQSO.Cx7Bp > div > div > div.QY4Ed.P0xOK > input\").send_keys(Keys.RETURN)\n",
    "\n",
    "    time.sleep(10)\n",
    "    # First post\n",
    "    print(\"clicking on First post\")\n",
    "    first_post = driver.find_element(By.XPATH,\"//*/section/main/article/div[1]/div/div/div[1]/div[1]/a/div/div[2]\").click()\n",
    "    print(\"clicked on First post\")\n",
    "    time.sleep(5)\n",
    "#  calling like function\n",
    "    like()\n",
    "    time.sleep(5)\n",
    "# calling comment function\n",
    "    comment()\n",
    "    time.sleep(5)\n",
    "    post = 1\n",
    "    # number of post you would like to like and comment on\n",
    "    # p.s. keep count below 25 to be safe from instagram Ban\n",
    "    while post < 15:\n",
    "        try :\n",
    "            driver.find_element(By.XPATH,\"/html/body/div[6]/div[2]/div/div[2]/button\").click()\n",
    "            \n",
    "        except:\n",
    "            driver.find_element(By.XPATH,\"/html/body/div[6]/div[2]/div/div/button\").click()\n",
    "        time.sleep(15)\n",
    "        print(\"i run every single time this loop executes\")\n",
    "        like()\n",
    "        #driver.find_element(By.CSS_SELECTOR,\"body > div.RnEpo._Yhr4 > div.pbNvD.QZZGH.bW6vo > div > article > div > div.HP0qD > div > div > div.eo2As > section.ltpMr.Slqrh > span.fr66n > button\").click()\n",
    "        time.sleep(5)\n",
    "        comment()\n",
    "        time.sleep(5)\n",
    "        post += 1\n",
    "    print(\"clicked on all post\")\n",
    "    time.sleep(60)\n",
    "\n",
    "\n",
    "\n"
   ]
  },
  {
   "cell_type": "code",
   "execution_count": null,
   "metadata": {},
   "outputs": [],
   "source": [
    "def like():\n",
    "    # clicking heart shape like button\n",
    "    driver.find_element(By.CSS_SELECTOR,\"body > div.RnEpo._Yhr4 > div.pbNvD.QZZGH.bW6vo > div > article > div > div.HP0qD > div > div > div.eo2As > section.ltpMr.Slqrh > span.fr66n > button\").click()\n",
    "    print(\"liked\")\n",
    "\n",
    "    \n",
    "def comment():\n",
    "    # clicking on comment bar\n",
    "    try:\n",
    "        \n",
    "        cmt = driver.find_element(By.XPATH,\"/html/body/div[6]/div[3]/div/article/div/div[2]/div/div/div[2]/section[3]/div/form/textarea\").click()\n",
    "        time.sleep(3)\n",
    "        # Entering comment\n",
    "        cmt1 = driver.find_element(By.XPATH,\"/html/body/div[6]/div[3]/div/article/div/div[2]/div/div/div[2]/section[3]/div/form/textarea\").send_keys(choose_comment())\n",
    "        time.sleep(5)\n",
    "        # pressing post button\n",
    "        post= driver.find_element(By.XPATH,\"/html/body/div[6]/div[3]/div/article/div/div[2]/div/div/div[2]/section[3]/div/form/button/div\").click()\n",
    "        #time.sleep(5)\n",
    "    except:\n",
    "        print(\"comments were limited\")\n",
    "    \n",
    "\n",
    "\n",
    "def choose_comment():\n",
    "    cmt_list = [\"cute!\",\"lovely\",\"beautiful!\",\"Amazing\",\"Best out of ton\"]\n",
    "\n",
    "# using random.choice() to\n",
    "# get a random comment\n",
    "    random_choice = random.choice(cmt_list)\n",
    "\n",
    "# printing random comment\n",
    "    print (random_choice )\n",
    "    return random_choice\n"
   ]
  },
  {
   "cell_type": "code",
   "execution_count": null,
   "metadata": {},
   "outputs": [],
   "source": [
    "def comment():\n",
    "    # clicking on comment bar\n",
    "    try:\n",
    "        \n",
    "        cmt = driver.find_element(By.XPATH,\"/html/body/div[6]/div[3]/div/article/div/div[2]/div/div/div[2]/section[3]/div/form/textarea\").click()\n",
    "        time.sleep(3)\n",
    "        # Entering comment\n",
    "        cmt1 = driver.find_element(By.XPATH,\"/html/body/div[6]/div[3]/div/article/div/div[2]/div/div/div[2]/section[3]/div/form/textarea\").send_keys(choose_comment())\n",
    "        time.sleep(5)\n",
    "        # pressing post button\n",
    "        post= driver.find_element(By.XPATH,\"/html/body/div[6]/div[3]/div/article/div/div[2]/div/div/div[2]/section[3]/div/form/button/div\").click()\n",
    "        #time.sleep(5)\n",
    "    except:\n",
    "        print(\"comments were limited\")\n",
    "    \n",
    "\n",
    "\n"
   ]
  },
  {
   "cell_type": "code",
   "execution_count": null,
   "metadata": {},
   "outputs": [],
   "source": [
    "def choose_comment():\n",
    "    cmt_list = [\"cute!\",\"lovely\",\"beautiful!\",\"Amazing\",\"Best out of ton\"]\n",
    "\n",
    "# using random.choice() to\n",
    "# get a random comment\n",
    "    random_choice = random.choice(cmt_list)\n",
    "\n",
    "# printing random comment\n",
    "    print (random_choice )\n",
    "    return random_choice\n"
   ]
  },
  {
   "cell_type": "code",
   "execution_count": 4,
   "metadata": {},
   "outputs": [
    {
     "name": "stderr",
     "output_type": "stream",
     "text": [
      "<ipython-input-3-1851c8e48b9f>:22: DeprecationWarning: find_element_by_name is deprecated. Please use find_element(by=By.NAME, value=name) instead\n",
      "  driver.find_element_by_name(\"username\").send_keys(Username)\n",
      "<ipython-input-3-1851c8e48b9f>:23: DeprecationWarning: find_element_by_name is deprecated. Please use find_element(by=By.NAME, value=name) instead\n",
      "  driver.find_element_by_name(\"password\").send_keys(Password)\n"
     ]
    },
    {
     "name": "stdout",
     "output_type": "stream",
     "text": [
      "login Btn pressed\n",
      "clicking on First post\n",
      "clicked on First post\n",
      "liked\n",
      "beautiful!\n",
      "i run every single time this loop executes\n",
      "liked\n",
      "Amazing\n",
      "i run every single time this loop executes\n",
      "liked\n",
      "cute!\n",
      "i run every single time this loop executes\n",
      "liked\n",
      "Amazing\n",
      "i run every single time this loop executes\n",
      "liked\n",
      "cute!\n",
      "i run every single time this loop executes\n",
      "liked\n",
      "Best out of ton\n",
      "i run every single time this loop executes\n",
      "liked\n",
      "lovely\n",
      "i run every single time this loop executes\n",
      "liked\n",
      "Amazing\n",
      "i run every single time this loop executes\n",
      "liked\n",
      "Amazing\n",
      "i run every single time this loop executes\n",
      "liked\n",
      "lovely\n",
      "i run every single time this loop executes\n",
      "liked\n",
      "Best out of ton\n",
      "i run every single time this loop executes\n",
      "liked\n",
      "beautiful!\n",
      "i run every single time this loop executes\n",
      "liked\n",
      "Amazing\n",
      "i run every single time this loop executes\n",
      "liked\n",
      "lovely\n",
      "i run every single time this loop executes\n",
      "liked\n",
      "lovely\n",
      "clicked on all post\n"
     ]
    }
   ],
   "source": [
    "login()"
   ]
  },
  {
   "cell_type": "code",
   "execution_count": null,
   "metadata": {},
   "outputs": [],
   "source": []
  },
  {
   "cell_type": "code",
   "execution_count": null,
   "metadata": {},
   "outputs": [],
   "source": []
  },
  {
   "cell_type": "code",
   "execution_count": null,
   "metadata": {},
   "outputs": [],
   "source": []
  }
 ],
 "metadata": {
  "kernelspec": {
   "display_name": "Python 3",
   "language": "python",
   "name": "python3"
  },
  "language_info": {
   "codemirror_mode": {
    "name": "ipython",
    "version": 3
   },
   "file_extension": ".py",
   "mimetype": "text/x-python",
   "name": "python",
   "nbconvert_exporter": "python",
   "pygments_lexer": "ipython3",
   "version": "3.8.5"
  }
 },
 "nbformat": 4,
 "nbformat_minor": 4
}
